{
  "nbformat": 4,
  "nbformat_minor": 0,
  "metadata": {
    "colab": {
      "provenance": [],
      "include_colab_link": true
    },
    "kernelspec": {
      "name": "python3",
      "display_name": "Python 3"
    },
    "language_info": {
      "name": "python"
    }
  },
  "cells": [
    {
      "cell_type": "markdown",
      "metadata": {
        "id": "view-in-github",
        "colab_type": "text"
      },
      "source": [
        "<a href=\"https://colab.research.google.com/github/Rishabh5752/MHD-DAIC-/blob/main/DAIC_PreProcessing.ipynb\" target=\"_parent\"><img src=\"https://colab.research.google.com/assets/colab-badge.svg\" alt=\"Open In Colab\"/></a>"
      ]
    },
    {
      "cell_type": "code",
      "source": [
        "import librosa\n",
        "import librosa.display\n",
        "import matplotlib.pyplot as plt\n",
        "import numpy as np\n",
        "import os\n",
        "\n",
        "def generate_spectrogram(file_path, output_path):\n",
        "    # Load the audio file\n",
        "    y, sr = librosa.load(file_path)\n",
        "\n",
        "    # Compute the spectrogram\n",
        "    D = np.abs(librosa.stft(y))\n",
        "\n",
        "    # Display the spectrogram without axes and labels\n",
        "    plt.figure(figsize=(4, 4))  # Set the image size (adjust as needed)\n",
        "    librosa.display.specshow(librosa.amplitude_to_db(D, ref=np.max), cmap='gray')\n",
        "    plt.axis('off')  # Turn off axis labels and ticks\n",
        "    plt.subplots_adjust(left=0, right=1, top=1, bottom=0)  # Remove unnecessary margins\n",
        "    plt.margins(0, 0)\n",
        "\n",
        "    # Save the spectrogram image\n",
        "    plt.savefig(output_path, bbox_inches='tight', pad_inches=0, transparent=True)\n",
        "    plt.close()\n",
        "\n",
        "def process_audio_files(folder_path):\n",
        "    for root, dirs, files in os.walk(folder_path):\n",
        "        for file in files:\n",
        "            if file.endswith('.wav'):\n",
        "                file_path = os.path.join(root, file)\n",
        "                output_image_path = os.path.splitext(file_path)[0] + '_spectrogram.png'\n",
        "                print(\"Processing:\", file_path)\n",
        "                generate_spectrogram(file_path, output_image_path)\n",
        "\n",
        "\n",
        "folder_path = '/content/drive/MyDrive/daic_dataset_folder'\n",
        "process_audio_files(folder_path)"
      ],
      "metadata": {
        "id": "f0p-0lRLqdfX"
      },
      "execution_count": null,
      "outputs": []
    },
    {
      "cell_type": "code",
      "source": [
        "from google.colab import drive\n",
        "drive.mount('/content/drive')"
      ],
      "metadata": {
        "colab": {
          "base_uri": "https://localhost:8080/"
        },
        "id": "OppHXOM-1YU-",
        "outputId": "8763a3fc-eb14-41a4-bb00-cd26ec7a221c"
      },
      "execution_count": null,
      "outputs": [
        {
          "output_type": "stream",
          "name": "stdout",
          "text": [
            "Drive already mounted at /content/drive; to attempt to forcibly remount, call drive.mount(\"/content/drive\", force_remount=True).\n"
          ]
        }
      ]
    },
    {
      "cell_type": "code",
      "source": [
        "import gc\n",
        "import librosa\n",
        "import librosa.display\n",
        "import matplotlib.pyplot as plt\n",
        "import numpy as np\n",
        "import os\n",
        "\n",
        "def generate_spectrogram(file_path, output_path):\n",
        "    chunk_size = 4096  # Reduce the chunk size for lower CPU demand\n",
        "    hop_size = 512     # Add a hop size for lower spectrogram resolution\n",
        "    y, sr = sf.read(file_path, dtype='float32', always_2d=True)\n",
        "\n",
        "    num_chunks = len(y) // chunk_size + 1\n",
        "\n",
        "    for i in range(num_chunks):\n",
        "        start_idx = i * chunk_size\n",
        "        end_idx = min((i + 1) * chunk_size, len(y))\n",
        "        y_chunk = y[start_idx:end_idx]\n",
        "\n",
        "        D = np.abs(librosa.stft(y_chunk[:, 0], hop_length=hop_size))  # Adjust hop length\n",
        "\n",
        "        fig, ax = plt.subplots(figsize=(2, 2))  # Reduce the size of the figure\n",
        "        librosa.display.specshow(librosa.amplitude_to_db(D, ref=np.max), cmap='gray', ax=ax)\n",
        "        ax.axis('off')\n",
        "        fig.subplots_adjust(left=0, right=1, top=1, bottom=0)\n",
        "        fig.tight_layout(pad=0)\n",
        "        plt.close(fig)\n",
        "\n",
        "        chunk_output_path = output_path.replace('.wav', f'chunk{i}_spectrogram.png')\n",
        "        fig.savefig(chunk_output_path, bbox_inches='tight', pad_inches=0, transparent=True)\n",
        "        plt.close(fig)\n",
        "        gc.collect()\n",
        "\n",
        "def process_audio_files(folder_path):\n",
        "    for root, dirs, files in os.walk(folder_path):\n",
        "        for file in files:\n",
        "            if file.endswith('.wav'):\n",
        "                file_path = os.path.join(root, file)\n",
        "                output_image_path = os.path.splitext(file_path)[0] + '_spectrogram.png'\n",
        "                print(\"Processing:\", file_path)\n",
        "                generate_spectrogram(file_path, output_image_path)\n",
        "\n",
        "folder_path = '/content/drive/MyDrive/daic_dataset_folder'\n",
        "process_audio_files(folder_path)"
      ],
      "metadata": {
        "id": "bFbwcWENr2w7",
        "colab": {
          "base_uri": "https://localhost:8080/",
          "height": 381
        },
        "outputId": "d03f4b7f-9f26-4aa4-e6ad-2b060e7eeb21"
      },
      "execution_count": null,
      "outputs": [
        {
          "output_type": "stream",
          "name": "stdout",
          "text": [
            "Processing: /content/drive/MyDrive/daic_dataset_folder/436_P/436_AUDIO.wav\n"
          ]
        },
        {
          "output_type": "error",
          "ename": "NameError",
          "evalue": "ignored",
          "traceback": [
            "\u001b[0;31m---------------------------------------------------------------------------\u001b[0m",
            "\u001b[0;31mNameError\u001b[0m                                 Traceback (most recent call last)",
            "\u001b[0;32m<ipython-input-1-fa294bc3cdd1>\u001b[0m in \u001b[0;36m<cell line: 44>\u001b[0;34m()\u001b[0m\n\u001b[1;32m     42\u001b[0m \u001b[0;34m\u001b[0m\u001b[0m\n\u001b[1;32m     43\u001b[0m \u001b[0mfolder_path\u001b[0m \u001b[0;34m=\u001b[0m \u001b[0;34m'/content/drive/MyDrive/daic_dataset_folder'\u001b[0m\u001b[0;34m\u001b[0m\u001b[0;34m\u001b[0m\u001b[0m\n\u001b[0;32m---> 44\u001b[0;31m \u001b[0mprocess_audio_files\u001b[0m\u001b[0;34m(\u001b[0m\u001b[0mfolder_path\u001b[0m\u001b[0;34m)\u001b[0m\u001b[0;34m\u001b[0m\u001b[0;34m\u001b[0m\u001b[0m\n\u001b[0m",
            "\u001b[0;32m<ipython-input-1-fa294bc3cdd1>\u001b[0m in \u001b[0;36mprocess_audio_files\u001b[0;34m(folder_path)\u001b[0m\n\u001b[1;32m     39\u001b[0m                 \u001b[0moutput_image_path\u001b[0m \u001b[0;34m=\u001b[0m \u001b[0mos\u001b[0m\u001b[0;34m.\u001b[0m\u001b[0mpath\u001b[0m\u001b[0;34m.\u001b[0m\u001b[0msplitext\u001b[0m\u001b[0;34m(\u001b[0m\u001b[0mfile_path\u001b[0m\u001b[0;34m)\u001b[0m\u001b[0;34m[\u001b[0m\u001b[0;36m0\u001b[0m\u001b[0;34m]\u001b[0m \u001b[0;34m+\u001b[0m \u001b[0;34m'_spectrogram.png'\u001b[0m\u001b[0;34m\u001b[0m\u001b[0;34m\u001b[0m\u001b[0m\n\u001b[1;32m     40\u001b[0m                 \u001b[0mprint\u001b[0m\u001b[0;34m(\u001b[0m\u001b[0;34m\"Processing:\"\u001b[0m\u001b[0;34m,\u001b[0m \u001b[0mfile_path\u001b[0m\u001b[0;34m)\u001b[0m\u001b[0;34m\u001b[0m\u001b[0;34m\u001b[0m\u001b[0m\n\u001b[0;32m---> 41\u001b[0;31m                 \u001b[0mgenerate_spectrogram\u001b[0m\u001b[0;34m(\u001b[0m\u001b[0mfile_path\u001b[0m\u001b[0;34m,\u001b[0m \u001b[0moutput_image_path\u001b[0m\u001b[0;34m)\u001b[0m\u001b[0;34m\u001b[0m\u001b[0;34m\u001b[0m\u001b[0m\n\u001b[0m\u001b[1;32m     42\u001b[0m \u001b[0;34m\u001b[0m\u001b[0m\n\u001b[1;32m     43\u001b[0m \u001b[0mfolder_path\u001b[0m \u001b[0;34m=\u001b[0m \u001b[0;34m'/content/drive/MyDrive/daic_dataset_folder'\u001b[0m\u001b[0;34m\u001b[0m\u001b[0;34m\u001b[0m\u001b[0m\n",
            "\u001b[0;32m<ipython-input-1-fa294bc3cdd1>\u001b[0m in \u001b[0;36mgenerate_spectrogram\u001b[0;34m(file_path, output_path)\u001b[0m\n\u001b[1;32m      9\u001b[0m     \u001b[0mchunk_size\u001b[0m \u001b[0;34m=\u001b[0m \u001b[0;36m4096\u001b[0m  \u001b[0;31m# Reduce the chunk size for lower CPU demand\u001b[0m\u001b[0;34m\u001b[0m\u001b[0;34m\u001b[0m\u001b[0m\n\u001b[1;32m     10\u001b[0m     \u001b[0mhop_size\u001b[0m \u001b[0;34m=\u001b[0m \u001b[0;36m512\u001b[0m     \u001b[0;31m# Add a hop size for lower spectrogram resolution\u001b[0m\u001b[0;34m\u001b[0m\u001b[0;34m\u001b[0m\u001b[0m\n\u001b[0;32m---> 11\u001b[0;31m     \u001b[0my\u001b[0m\u001b[0;34m,\u001b[0m \u001b[0msr\u001b[0m \u001b[0;34m=\u001b[0m \u001b[0msf\u001b[0m\u001b[0;34m.\u001b[0m\u001b[0mread\u001b[0m\u001b[0;34m(\u001b[0m\u001b[0mfile_path\u001b[0m\u001b[0;34m,\u001b[0m \u001b[0mdtype\u001b[0m\u001b[0;34m=\u001b[0m\u001b[0;34m'float32'\u001b[0m\u001b[0;34m,\u001b[0m \u001b[0malways_2d\u001b[0m\u001b[0;34m=\u001b[0m\u001b[0;32mTrue\u001b[0m\u001b[0;34m)\u001b[0m\u001b[0;34m\u001b[0m\u001b[0;34m\u001b[0m\u001b[0m\n\u001b[0m\u001b[1;32m     12\u001b[0m \u001b[0;34m\u001b[0m\u001b[0m\n\u001b[1;32m     13\u001b[0m     \u001b[0mnum_chunks\u001b[0m \u001b[0;34m=\u001b[0m \u001b[0mlen\u001b[0m\u001b[0;34m(\u001b[0m\u001b[0my\u001b[0m\u001b[0;34m)\u001b[0m \u001b[0;34m//\u001b[0m \u001b[0mchunk_size\u001b[0m \u001b[0;34m+\u001b[0m \u001b[0;36m1\u001b[0m\u001b[0;34m\u001b[0m\u001b[0;34m\u001b[0m\u001b[0m\n",
            "\u001b[0;31mNameError\u001b[0m: name 'sf' is not defined"
          ]
        }
      ]
    },
    {
      "cell_type": "code",
      "source": [
        "a = []\n",
        "while(1):\n",
        "  a.append('1')"
      ],
      "metadata": {
        "id": "ynbzga3XKrkI"
      },
      "execution_count": null,
      "outputs": []
    },
    {
      "cell_type": "code",
      "source": [
        "import gc\n",
        "import soundfile as sf\n",
        "import librosa\n",
        "import librosa.display\n",
        "import matplotlib.pyplot as plt\n",
        "import numpy as np\n",
        "import os\n",
        "\n",
        "def generate_spectrogram(file_path, output_path):\n",
        "    y, sr = sf.read(file_path, dtype='float32')  # Read the audio file using soundfile\n",
        "\n",
        "    D = np.abs(librosa.stft(y))  # Compute the spectrogram for the entire audio file\n",
        "\n",
        "    fig, ax = plt.subplots(figsize=(4, 4))\n",
        "    librosa.display.specshow(librosa.amplitude_to_db(D, ref=np.max), cmap='gray', ax=ax)\n",
        "    ax.axis('off')\n",
        "    fig.subplots_adjust(left=0, right=1, top=1, bottom=0)\n",
        "    fig.tight_layout(pad=0)\n",
        "    plt.close(fig)\n",
        "\n",
        "\n",
        "    fig.savefig(output_path, bbox_inches='tight', pad_inches=0, transparent=True)\n",
        "\n",
        "    plt.close(fig)\n",
        "    gc.collect()\n",
        "\n",
        "def process_audio_files(folder_path):\n",
        "\n",
        "    for root, dirs, files in os.walk(folder_path):\n",
        "        for file in files:\n",
        "            if file.endswith('.wav'):\n",
        "                file_path = os.path.join(root, file)\n",
        "                output_image_path = os.path.splitext(file_path)[0] + '_spectrogram.png'\n",
        "                print(\"Processing:\", file_path)\n",
        "                generate_spectrogram(file_path, output_image_path)\n",
        "\n",
        "\n",
        "\n",
        "\n",
        "folder_path = '/content/drive/MyDrive/daic_dataset_folder'\n",
        "\n",
        "\n",
        "process_audio_files(folder_path)"
      ],
      "metadata": {
        "id": "Qy150QFLC52A",
        "colab": {
          "base_uri": "https://localhost:8080/",
          "height": 425
        },
        "outputId": "83af43ac-ded6-4192-cae9-c8c98358c1f8"
      },
      "execution_count": null,
      "outputs": [
        {
          "output_type": "stream",
          "name": "stdout",
          "text": [
            "Processing: /content/drive/MyDrive/daic_dataset_folder/436_P/436_AUDIO.wav\n",
            "Processing: /content/drive/MyDrive/daic_dataset_folder/437_P/437_AUDIO.wav\n",
            "Processing: /content/drive/MyDrive/daic_dataset_folder/438_P/438_AUDIO.wav\n"
          ]
        },
        {
          "output_type": "error",
          "ename": "KeyboardInterrupt",
          "evalue": "ignored",
          "traceback": [
            "\u001b[0;31m---------------------------------------------------------------------------\u001b[0m",
            "\u001b[0;31mKeyboardInterrupt\u001b[0m                         Traceback (most recent call last)",
            "\u001b[0;32m<ipython-input-1-542946fe07ea>\u001b[0m in \u001b[0;36m<cell line: 43>\u001b[0;34m()\u001b[0m\n\u001b[1;32m     41\u001b[0m \u001b[0;34m\u001b[0m\u001b[0m\n\u001b[1;32m     42\u001b[0m \u001b[0;34m\u001b[0m\u001b[0m\n\u001b[0;32m---> 43\u001b[0;31m \u001b[0mprocess_audio_files\u001b[0m\u001b[0;34m(\u001b[0m\u001b[0mfolder_path\u001b[0m\u001b[0;34m)\u001b[0m\u001b[0;34m\u001b[0m\u001b[0;34m\u001b[0m\u001b[0m\n\u001b[0m",
            "\u001b[0;32m<ipython-input-1-542946fe07ea>\u001b[0m in \u001b[0;36mprocess_audio_files\u001b[0;34m(folder_path)\u001b[0m\n\u001b[1;32m     33\u001b[0m                 \u001b[0moutput_image_path\u001b[0m \u001b[0;34m=\u001b[0m \u001b[0mos\u001b[0m\u001b[0;34m.\u001b[0m\u001b[0mpath\u001b[0m\u001b[0;34m.\u001b[0m\u001b[0msplitext\u001b[0m\u001b[0;34m(\u001b[0m\u001b[0mfile_path\u001b[0m\u001b[0;34m)\u001b[0m\u001b[0;34m[\u001b[0m\u001b[0;36m0\u001b[0m\u001b[0;34m]\u001b[0m \u001b[0;34m+\u001b[0m \u001b[0;34m'_spectrogram.png'\u001b[0m\u001b[0;34m\u001b[0m\u001b[0;34m\u001b[0m\u001b[0m\n\u001b[1;32m     34\u001b[0m                 \u001b[0mprint\u001b[0m\u001b[0;34m(\u001b[0m\u001b[0;34m\"Processing:\"\u001b[0m\u001b[0;34m,\u001b[0m \u001b[0mfile_path\u001b[0m\u001b[0;34m)\u001b[0m\u001b[0;34m\u001b[0m\u001b[0;34m\u001b[0m\u001b[0m\n\u001b[0;32m---> 35\u001b[0;31m                 \u001b[0mgenerate_spectrogram\u001b[0m\u001b[0;34m(\u001b[0m\u001b[0mfile_path\u001b[0m\u001b[0;34m,\u001b[0m \u001b[0moutput_image_path\u001b[0m\u001b[0;34m)\u001b[0m\u001b[0;34m\u001b[0m\u001b[0;34m\u001b[0m\u001b[0m\n\u001b[0m\u001b[1;32m     36\u001b[0m \u001b[0;34m\u001b[0m\u001b[0m\n\u001b[1;32m     37\u001b[0m \u001b[0;34m\u001b[0m\u001b[0m\n",
            "\u001b[0;32m<ipython-input-1-542946fe07ea>\u001b[0m in \u001b[0;36mgenerate_spectrogram\u001b[0;34m(file_path, output_path)\u001b[0m\n\u001b[1;32m     20\u001b[0m \u001b[0;34m\u001b[0m\u001b[0m\n\u001b[1;32m     21\u001b[0m \u001b[0;34m\u001b[0m\u001b[0m\n\u001b[0;32m---> 22\u001b[0;31m     \u001b[0mfig\u001b[0m\u001b[0;34m.\u001b[0m\u001b[0msavefig\u001b[0m\u001b[0;34m(\u001b[0m\u001b[0moutput_path\u001b[0m\u001b[0;34m,\u001b[0m \u001b[0mbbox_inches\u001b[0m\u001b[0;34m=\u001b[0m\u001b[0;34m'tight'\u001b[0m\u001b[0;34m,\u001b[0m \u001b[0mpad_inches\u001b[0m\u001b[0;34m=\u001b[0m\u001b[0;36m0\u001b[0m\u001b[0;34m,\u001b[0m \u001b[0mtransparent\u001b[0m\u001b[0;34m=\u001b[0m\u001b[0;32mTrue\u001b[0m\u001b[0;34m)\u001b[0m\u001b[0;34m\u001b[0m\u001b[0;34m\u001b[0m\u001b[0m\n\u001b[0m\u001b[1;32m     23\u001b[0m \u001b[0;34m\u001b[0m\u001b[0m\n\u001b[1;32m     24\u001b[0m     \u001b[0mplt\u001b[0m\u001b[0;34m.\u001b[0m\u001b[0mclose\u001b[0m\u001b[0;34m(\u001b[0m\u001b[0mfig\u001b[0m\u001b[0;34m)\u001b[0m\u001b[0;34m\u001b[0m\u001b[0;34m\u001b[0m\u001b[0m\n",
            "\u001b[0;32m/usr/local/lib/python3.10/dist-packages/matplotlib/figure.py\u001b[0m in \u001b[0;36msavefig\u001b[0;34m(self, fname, transparent, **kwargs)\u001b[0m\n\u001b[1;32m   3341\u001b[0m                         ax.patch._cm_set(facecolor='none', edgecolor='none'))\n\u001b[1;32m   3342\u001b[0m \u001b[0;34m\u001b[0m\u001b[0m\n\u001b[0;32m-> 3343\u001b[0;31m             \u001b[0mself\u001b[0m\u001b[0;34m.\u001b[0m\u001b[0mcanvas\u001b[0m\u001b[0;34m.\u001b[0m\u001b[0mprint_figure\u001b[0m\u001b[0;34m(\u001b[0m\u001b[0mfname\u001b[0m\u001b[0;34m,\u001b[0m \u001b[0;34m**\u001b[0m\u001b[0mkwargs\u001b[0m\u001b[0;34m)\u001b[0m\u001b[0;34m\u001b[0m\u001b[0;34m\u001b[0m\u001b[0m\n\u001b[0m\u001b[1;32m   3344\u001b[0m \u001b[0;34m\u001b[0m\u001b[0m\n\u001b[1;32m   3345\u001b[0m     def ginput(self, n=1, timeout=30, show_clicks=True,\n",
            "\u001b[0;32m/usr/local/lib/python3.10/dist-packages/matplotlib/backend_bases.py\u001b[0m in \u001b[0;36mprint_figure\u001b[0;34m(self, filename, dpi, facecolor, edgecolor, orientation, format, bbox_inches, pad_inches, bbox_extra_artists, backend, **kwargs)\u001b[0m\n\u001b[1;32m   2364\u001b[0m                 \u001b[0;31m# force the figure dpi to 72), so we need to set it again here.\u001b[0m\u001b[0;34m\u001b[0m\u001b[0;34m\u001b[0m\u001b[0m\n\u001b[1;32m   2365\u001b[0m                 \u001b[0;32mwith\u001b[0m \u001b[0mcbook\u001b[0m\u001b[0;34m.\u001b[0m\u001b[0m_setattr_cm\u001b[0m\u001b[0;34m(\u001b[0m\u001b[0mself\u001b[0m\u001b[0;34m.\u001b[0m\u001b[0mfigure\u001b[0m\u001b[0;34m,\u001b[0m \u001b[0mdpi\u001b[0m\u001b[0;34m=\u001b[0m\u001b[0mdpi\u001b[0m\u001b[0;34m)\u001b[0m\u001b[0;34m:\u001b[0m\u001b[0;34m\u001b[0m\u001b[0;34m\u001b[0m\u001b[0m\n\u001b[0;32m-> 2366\u001b[0;31m                     result = print_method(\n\u001b[0m\u001b[1;32m   2367\u001b[0m                         \u001b[0mfilename\u001b[0m\u001b[0;34m,\u001b[0m\u001b[0;34m\u001b[0m\u001b[0;34m\u001b[0m\u001b[0m\n\u001b[1;32m   2368\u001b[0m                         \u001b[0mfacecolor\u001b[0m\u001b[0;34m=\u001b[0m\u001b[0mfacecolor\u001b[0m\u001b[0;34m,\u001b[0m\u001b[0;34m\u001b[0m\u001b[0;34m\u001b[0m\u001b[0m\n",
            "\u001b[0;32m/usr/local/lib/python3.10/dist-packages/matplotlib/backend_bases.py\u001b[0m in \u001b[0;36m<lambda>\u001b[0;34m(*args, **kwargs)\u001b[0m\n\u001b[1;32m   2230\u001b[0m                 \"bbox_inches_restore\"}\n\u001b[1;32m   2231\u001b[0m             \u001b[0mskip\u001b[0m \u001b[0;34m=\u001b[0m \u001b[0moptional_kws\u001b[0m \u001b[0;34m-\u001b[0m \u001b[0;34m{\u001b[0m\u001b[0;34m*\u001b[0m\u001b[0minspect\u001b[0m\u001b[0;34m.\u001b[0m\u001b[0msignature\u001b[0m\u001b[0;34m(\u001b[0m\u001b[0mmeth\u001b[0m\u001b[0;34m)\u001b[0m\u001b[0;34m.\u001b[0m\u001b[0mparameters\u001b[0m\u001b[0;34m}\u001b[0m\u001b[0;34m\u001b[0m\u001b[0;34m\u001b[0m\u001b[0m\n\u001b[0;32m-> 2232\u001b[0;31m             print_method = functools.wraps(meth)(lambda *args, **kwargs: meth(\n\u001b[0m\u001b[1;32m   2233\u001b[0m                 *args, **{k: v for k, v in kwargs.items() if k not in skip}))\n\u001b[1;32m   2234\u001b[0m         \u001b[0;32melse\u001b[0m\u001b[0;34m:\u001b[0m  \u001b[0;31m# Let third-parties do as they see fit.\u001b[0m\u001b[0;34m\u001b[0m\u001b[0;34m\u001b[0m\u001b[0m\n",
            "\u001b[0;32m/usr/local/lib/python3.10/dist-packages/matplotlib/backends/backend_agg.py\u001b[0m in \u001b[0;36mprint_png\u001b[0;34m(self, filename_or_obj, metadata, pil_kwargs)\u001b[0m\n\u001b[1;32m    507\u001b[0m             \u001b[0;34m*\u001b[0m\u001b[0mmetadata\u001b[0m\u001b[0;34m*\u001b[0m\u001b[0;34m,\u001b[0m \u001b[0mincluding\u001b[0m \u001b[0mthe\u001b[0m \u001b[0mdefault\u001b[0m \u001b[0;34m'Software'\u001b[0m \u001b[0mkey\u001b[0m\u001b[0;34m.\u001b[0m\u001b[0;34m\u001b[0m\u001b[0;34m\u001b[0m\u001b[0m\n\u001b[1;32m    508\u001b[0m         \"\"\"\n\u001b[0;32m--> 509\u001b[0;31m         \u001b[0mself\u001b[0m\u001b[0;34m.\u001b[0m\u001b[0m_print_pil\u001b[0m\u001b[0;34m(\u001b[0m\u001b[0mfilename_or_obj\u001b[0m\u001b[0;34m,\u001b[0m \u001b[0;34m\"png\"\u001b[0m\u001b[0;34m,\u001b[0m \u001b[0mpil_kwargs\u001b[0m\u001b[0;34m,\u001b[0m \u001b[0mmetadata\u001b[0m\u001b[0;34m)\u001b[0m\u001b[0;34m\u001b[0m\u001b[0;34m\u001b[0m\u001b[0m\n\u001b[0m\u001b[1;32m    510\u001b[0m \u001b[0;34m\u001b[0m\u001b[0m\n\u001b[1;32m    511\u001b[0m     \u001b[0;32mdef\u001b[0m \u001b[0mprint_to_buffer\u001b[0m\u001b[0;34m(\u001b[0m\u001b[0mself\u001b[0m\u001b[0;34m)\u001b[0m\u001b[0;34m:\u001b[0m\u001b[0;34m\u001b[0m\u001b[0;34m\u001b[0m\u001b[0m\n",
            "\u001b[0;32m/usr/local/lib/python3.10/dist-packages/matplotlib/backends/backend_agg.py\u001b[0m in \u001b[0;36m_print_pil\u001b[0;34m(self, filename_or_obj, fmt, pil_kwargs, metadata)\u001b[0m\n\u001b[1;32m    455\u001b[0m         *pil_kwargs* and *metadata* are forwarded).\n\u001b[1;32m    456\u001b[0m         \"\"\"\n\u001b[0;32m--> 457\u001b[0;31m         \u001b[0mFigureCanvasAgg\u001b[0m\u001b[0;34m.\u001b[0m\u001b[0mdraw\u001b[0m\u001b[0;34m(\u001b[0m\u001b[0mself\u001b[0m\u001b[0;34m)\u001b[0m\u001b[0;34m\u001b[0m\u001b[0;34m\u001b[0m\u001b[0m\n\u001b[0m\u001b[1;32m    458\u001b[0m         mpl.image.imsave(\n\u001b[1;32m    459\u001b[0m             \u001b[0mfilename_or_obj\u001b[0m\u001b[0;34m,\u001b[0m \u001b[0mself\u001b[0m\u001b[0;34m.\u001b[0m\u001b[0mbuffer_rgba\u001b[0m\u001b[0;34m(\u001b[0m\u001b[0;34m)\u001b[0m\u001b[0;34m,\u001b[0m \u001b[0mformat\u001b[0m\u001b[0;34m=\u001b[0m\u001b[0mfmt\u001b[0m\u001b[0;34m,\u001b[0m \u001b[0morigin\u001b[0m\u001b[0;34m=\u001b[0m\u001b[0;34m\"upper\"\u001b[0m\u001b[0;34m,\u001b[0m\u001b[0;34m\u001b[0m\u001b[0;34m\u001b[0m\u001b[0m\n",
            "\u001b[0;32m/usr/local/lib/python3.10/dist-packages/matplotlib/backends/backend_agg.py\u001b[0m in \u001b[0;36mdraw\u001b[0;34m(self)\u001b[0m\n\u001b[1;32m    398\u001b[0m              (self.toolbar._wait_cursor_for_draw_cm() if self.toolbar\n\u001b[1;32m    399\u001b[0m               else nullcontext()):\n\u001b[0;32m--> 400\u001b[0;31m             \u001b[0mself\u001b[0m\u001b[0;34m.\u001b[0m\u001b[0mfigure\u001b[0m\u001b[0;34m.\u001b[0m\u001b[0mdraw\u001b[0m\u001b[0;34m(\u001b[0m\u001b[0mself\u001b[0m\u001b[0;34m.\u001b[0m\u001b[0mrenderer\u001b[0m\u001b[0;34m)\u001b[0m\u001b[0;34m\u001b[0m\u001b[0;34m\u001b[0m\u001b[0m\n\u001b[0m\u001b[1;32m    401\u001b[0m             \u001b[0;31m# A GUI class may be need to update a window using this draw, so\u001b[0m\u001b[0;34m\u001b[0m\u001b[0;34m\u001b[0m\u001b[0m\n\u001b[1;32m    402\u001b[0m             \u001b[0;31m# don't forget to call the superclass.\u001b[0m\u001b[0;34m\u001b[0m\u001b[0;34m\u001b[0m\u001b[0m\n",
            "\u001b[0;32m/usr/local/lib/python3.10/dist-packages/matplotlib/artist.py\u001b[0m in \u001b[0;36mdraw_wrapper\u001b[0;34m(artist, renderer, *args, **kwargs)\u001b[0m\n\u001b[1;32m     93\u001b[0m     \u001b[0;34m@\u001b[0m\u001b[0mwraps\u001b[0m\u001b[0;34m(\u001b[0m\u001b[0mdraw\u001b[0m\u001b[0;34m)\u001b[0m\u001b[0;34m\u001b[0m\u001b[0;34m\u001b[0m\u001b[0m\n\u001b[1;32m     94\u001b[0m     \u001b[0;32mdef\u001b[0m \u001b[0mdraw_wrapper\u001b[0m\u001b[0;34m(\u001b[0m\u001b[0martist\u001b[0m\u001b[0;34m,\u001b[0m \u001b[0mrenderer\u001b[0m\u001b[0;34m,\u001b[0m \u001b[0;34m*\u001b[0m\u001b[0margs\u001b[0m\u001b[0;34m,\u001b[0m \u001b[0;34m**\u001b[0m\u001b[0mkwargs\u001b[0m\u001b[0;34m)\u001b[0m\u001b[0;34m:\u001b[0m\u001b[0;34m\u001b[0m\u001b[0;34m\u001b[0m\u001b[0m\n\u001b[0;32m---> 95\u001b[0;31m         \u001b[0mresult\u001b[0m \u001b[0;34m=\u001b[0m \u001b[0mdraw\u001b[0m\u001b[0;34m(\u001b[0m\u001b[0martist\u001b[0m\u001b[0;34m,\u001b[0m \u001b[0mrenderer\u001b[0m\u001b[0;34m,\u001b[0m \u001b[0;34m*\u001b[0m\u001b[0margs\u001b[0m\u001b[0;34m,\u001b[0m \u001b[0;34m**\u001b[0m\u001b[0mkwargs\u001b[0m\u001b[0;34m)\u001b[0m\u001b[0;34m\u001b[0m\u001b[0;34m\u001b[0m\u001b[0m\n\u001b[0m\u001b[1;32m     96\u001b[0m         \u001b[0;32mif\u001b[0m \u001b[0mrenderer\u001b[0m\u001b[0;34m.\u001b[0m\u001b[0m_rasterizing\u001b[0m\u001b[0;34m:\u001b[0m\u001b[0;34m\u001b[0m\u001b[0;34m\u001b[0m\u001b[0m\n\u001b[1;32m     97\u001b[0m             \u001b[0mrenderer\u001b[0m\u001b[0;34m.\u001b[0m\u001b[0mstop_rasterizing\u001b[0m\u001b[0;34m(\u001b[0m\u001b[0;34m)\u001b[0m\u001b[0;34m\u001b[0m\u001b[0;34m\u001b[0m\u001b[0m\n",
            "\u001b[0;32m/usr/local/lib/python3.10/dist-packages/matplotlib/artist.py\u001b[0m in \u001b[0;36mdraw_wrapper\u001b[0;34m(artist, renderer)\u001b[0m\n\u001b[1;32m     70\u001b[0m                 \u001b[0mrenderer\u001b[0m\u001b[0;34m.\u001b[0m\u001b[0mstart_filter\u001b[0m\u001b[0;34m(\u001b[0m\u001b[0;34m)\u001b[0m\u001b[0;34m\u001b[0m\u001b[0;34m\u001b[0m\u001b[0m\n\u001b[1;32m     71\u001b[0m \u001b[0;34m\u001b[0m\u001b[0m\n\u001b[0;32m---> 72\u001b[0;31m             \u001b[0;32mreturn\u001b[0m \u001b[0mdraw\u001b[0m\u001b[0;34m(\u001b[0m\u001b[0martist\u001b[0m\u001b[0;34m,\u001b[0m \u001b[0mrenderer\u001b[0m\u001b[0;34m)\u001b[0m\u001b[0;34m\u001b[0m\u001b[0;34m\u001b[0m\u001b[0m\n\u001b[0m\u001b[1;32m     73\u001b[0m         \u001b[0;32mfinally\u001b[0m\u001b[0;34m:\u001b[0m\u001b[0;34m\u001b[0m\u001b[0;34m\u001b[0m\u001b[0m\n\u001b[1;32m     74\u001b[0m             \u001b[0;32mif\u001b[0m \u001b[0martist\u001b[0m\u001b[0;34m.\u001b[0m\u001b[0mget_agg_filter\u001b[0m\u001b[0;34m(\u001b[0m\u001b[0;34m)\u001b[0m \u001b[0;32mis\u001b[0m \u001b[0;32mnot\u001b[0m \u001b[0;32mNone\u001b[0m\u001b[0;34m:\u001b[0m\u001b[0;34m\u001b[0m\u001b[0;34m\u001b[0m\u001b[0m\n",
            "\u001b[0;32m/usr/local/lib/python3.10/dist-packages/matplotlib/figure.py\u001b[0m in \u001b[0;36mdraw\u001b[0;34m(self, renderer)\u001b[0m\n\u001b[1;32m   3138\u001b[0m \u001b[0;34m\u001b[0m\u001b[0m\n\u001b[1;32m   3139\u001b[0m             \u001b[0mself\u001b[0m\u001b[0;34m.\u001b[0m\u001b[0mpatch\u001b[0m\u001b[0;34m.\u001b[0m\u001b[0mdraw\u001b[0m\u001b[0;34m(\u001b[0m\u001b[0mrenderer\u001b[0m\u001b[0;34m)\u001b[0m\u001b[0;34m\u001b[0m\u001b[0;34m\u001b[0m\u001b[0m\n\u001b[0;32m-> 3140\u001b[0;31m             mimage._draw_list_compositing_images(\n\u001b[0m\u001b[1;32m   3141\u001b[0m                 renderer, self, artists, self.suppressComposite)\n\u001b[1;32m   3142\u001b[0m \u001b[0;34m\u001b[0m\u001b[0m\n",
            "\u001b[0;32m/usr/local/lib/python3.10/dist-packages/matplotlib/image.py\u001b[0m in \u001b[0;36m_draw_list_compositing_images\u001b[0;34m(renderer, parent, artists, suppress_composite)\u001b[0m\n\u001b[1;32m    129\u001b[0m     \u001b[0;32mif\u001b[0m \u001b[0mnot_composite\u001b[0m \u001b[0;32mor\u001b[0m \u001b[0;32mnot\u001b[0m \u001b[0mhas_images\u001b[0m\u001b[0;34m:\u001b[0m\u001b[0;34m\u001b[0m\u001b[0;34m\u001b[0m\u001b[0m\n\u001b[1;32m    130\u001b[0m         \u001b[0;32mfor\u001b[0m \u001b[0ma\u001b[0m \u001b[0;32min\u001b[0m \u001b[0martists\u001b[0m\u001b[0;34m:\u001b[0m\u001b[0;34m\u001b[0m\u001b[0;34m\u001b[0m\u001b[0m\n\u001b[0;32m--> 131\u001b[0;31m             \u001b[0ma\u001b[0m\u001b[0;34m.\u001b[0m\u001b[0mdraw\u001b[0m\u001b[0;34m(\u001b[0m\u001b[0mrenderer\u001b[0m\u001b[0;34m)\u001b[0m\u001b[0;34m\u001b[0m\u001b[0;34m\u001b[0m\u001b[0m\n\u001b[0m\u001b[1;32m    132\u001b[0m     \u001b[0;32melse\u001b[0m\u001b[0;34m:\u001b[0m\u001b[0;34m\u001b[0m\u001b[0;34m\u001b[0m\u001b[0m\n\u001b[1;32m    133\u001b[0m         \u001b[0;31m# Composite any adjacent images together\u001b[0m\u001b[0;34m\u001b[0m\u001b[0;34m\u001b[0m\u001b[0m\n",
            "\u001b[0;32m/usr/local/lib/python3.10/dist-packages/matplotlib/artist.py\u001b[0m in \u001b[0;36mdraw_wrapper\u001b[0;34m(artist, renderer)\u001b[0m\n\u001b[1;32m     70\u001b[0m                 \u001b[0mrenderer\u001b[0m\u001b[0;34m.\u001b[0m\u001b[0mstart_filter\u001b[0m\u001b[0;34m(\u001b[0m\u001b[0;34m)\u001b[0m\u001b[0;34m\u001b[0m\u001b[0;34m\u001b[0m\u001b[0m\n\u001b[1;32m     71\u001b[0m \u001b[0;34m\u001b[0m\u001b[0m\n\u001b[0;32m---> 72\u001b[0;31m             \u001b[0;32mreturn\u001b[0m \u001b[0mdraw\u001b[0m\u001b[0;34m(\u001b[0m\u001b[0martist\u001b[0m\u001b[0;34m,\u001b[0m \u001b[0mrenderer\u001b[0m\u001b[0;34m)\u001b[0m\u001b[0;34m\u001b[0m\u001b[0;34m\u001b[0m\u001b[0m\n\u001b[0m\u001b[1;32m     73\u001b[0m         \u001b[0;32mfinally\u001b[0m\u001b[0;34m:\u001b[0m\u001b[0;34m\u001b[0m\u001b[0;34m\u001b[0m\u001b[0m\n\u001b[1;32m     74\u001b[0m             \u001b[0;32mif\u001b[0m \u001b[0martist\u001b[0m\u001b[0;34m.\u001b[0m\u001b[0mget_agg_filter\u001b[0m\u001b[0;34m(\u001b[0m\u001b[0;34m)\u001b[0m \u001b[0;32mis\u001b[0m \u001b[0;32mnot\u001b[0m \u001b[0;32mNone\u001b[0m\u001b[0;34m:\u001b[0m\u001b[0;34m\u001b[0m\u001b[0;34m\u001b[0m\u001b[0m\n",
            "\u001b[0;32m/usr/local/lib/python3.10/dist-packages/matplotlib/axes/_base.py\u001b[0m in \u001b[0;36mdraw\u001b[0;34m(self, renderer)\u001b[0m\n\u001b[1;32m   3062\u001b[0m             \u001b[0m_draw_rasterized\u001b[0m\u001b[0;34m(\u001b[0m\u001b[0mself\u001b[0m\u001b[0;34m.\u001b[0m\u001b[0mfigure\u001b[0m\u001b[0;34m,\u001b[0m \u001b[0martists_rasterized\u001b[0m\u001b[0;34m,\u001b[0m \u001b[0mrenderer\u001b[0m\u001b[0;34m)\u001b[0m\u001b[0;34m\u001b[0m\u001b[0;34m\u001b[0m\u001b[0m\n\u001b[1;32m   3063\u001b[0m \u001b[0;34m\u001b[0m\u001b[0m\n\u001b[0;32m-> 3064\u001b[0;31m         mimage._draw_list_compositing_images(\n\u001b[0m\u001b[1;32m   3065\u001b[0m             renderer, self, artists, self.figure.suppressComposite)\n\u001b[1;32m   3066\u001b[0m \u001b[0;34m\u001b[0m\u001b[0m\n",
            "\u001b[0;32m/usr/local/lib/python3.10/dist-packages/matplotlib/image.py\u001b[0m in \u001b[0;36m_draw_list_compositing_images\u001b[0;34m(renderer, parent, artists, suppress_composite)\u001b[0m\n\u001b[1;32m    129\u001b[0m     \u001b[0;32mif\u001b[0m \u001b[0mnot_composite\u001b[0m \u001b[0;32mor\u001b[0m \u001b[0;32mnot\u001b[0m \u001b[0mhas_images\u001b[0m\u001b[0;34m:\u001b[0m\u001b[0;34m\u001b[0m\u001b[0;34m\u001b[0m\u001b[0m\n\u001b[1;32m    130\u001b[0m         \u001b[0;32mfor\u001b[0m \u001b[0ma\u001b[0m \u001b[0;32min\u001b[0m \u001b[0martists\u001b[0m\u001b[0;34m:\u001b[0m\u001b[0;34m\u001b[0m\u001b[0;34m\u001b[0m\u001b[0m\n\u001b[0;32m--> 131\u001b[0;31m             \u001b[0ma\u001b[0m\u001b[0;34m.\u001b[0m\u001b[0mdraw\u001b[0m\u001b[0;34m(\u001b[0m\u001b[0mrenderer\u001b[0m\u001b[0;34m)\u001b[0m\u001b[0;34m\u001b[0m\u001b[0;34m\u001b[0m\u001b[0m\n\u001b[0m\u001b[1;32m    132\u001b[0m     \u001b[0;32melse\u001b[0m\u001b[0;34m:\u001b[0m\u001b[0;34m\u001b[0m\u001b[0;34m\u001b[0m\u001b[0m\n\u001b[1;32m    133\u001b[0m         \u001b[0;31m# Composite any adjacent images together\u001b[0m\u001b[0;34m\u001b[0m\u001b[0;34m\u001b[0m\u001b[0m\n",
            "\u001b[0;32m/usr/local/lib/python3.10/dist-packages/matplotlib/artist.py\u001b[0m in \u001b[0;36mdraw_wrapper\u001b[0;34m(artist, renderer)\u001b[0m\n\u001b[1;32m     70\u001b[0m                 \u001b[0mrenderer\u001b[0m\u001b[0;34m.\u001b[0m\u001b[0mstart_filter\u001b[0m\u001b[0;34m(\u001b[0m\u001b[0;34m)\u001b[0m\u001b[0;34m\u001b[0m\u001b[0;34m\u001b[0m\u001b[0m\n\u001b[1;32m     71\u001b[0m \u001b[0;34m\u001b[0m\u001b[0m\n\u001b[0;32m---> 72\u001b[0;31m             \u001b[0;32mreturn\u001b[0m \u001b[0mdraw\u001b[0m\u001b[0;34m(\u001b[0m\u001b[0martist\u001b[0m\u001b[0;34m,\u001b[0m \u001b[0mrenderer\u001b[0m\u001b[0;34m)\u001b[0m\u001b[0;34m\u001b[0m\u001b[0;34m\u001b[0m\u001b[0m\n\u001b[0m\u001b[1;32m     73\u001b[0m         \u001b[0;32mfinally\u001b[0m\u001b[0;34m:\u001b[0m\u001b[0;34m\u001b[0m\u001b[0;34m\u001b[0m\u001b[0m\n\u001b[1;32m     74\u001b[0m             \u001b[0;32mif\u001b[0m \u001b[0martist\u001b[0m\u001b[0;34m.\u001b[0m\u001b[0mget_agg_filter\u001b[0m\u001b[0;34m(\u001b[0m\u001b[0;34m)\u001b[0m \u001b[0;32mis\u001b[0m \u001b[0;32mnot\u001b[0m \u001b[0;32mNone\u001b[0m\u001b[0;34m:\u001b[0m\u001b[0;34m\u001b[0m\u001b[0;34m\u001b[0m\u001b[0m\n",
            "\u001b[0;32m/usr/local/lib/python3.10/dist-packages/matplotlib/collections.py\u001b[0m in \u001b[0;36mdraw\u001b[0;34m(self, renderer)\u001b[0m\n\u001b[1;32m   2096\u001b[0m                 gc, triangles, colors, transform.frozen())\n\u001b[1;32m   2097\u001b[0m         \u001b[0;32melse\u001b[0m\u001b[0;34m:\u001b[0m\u001b[0;34m\u001b[0m\u001b[0;34m\u001b[0m\u001b[0m\n\u001b[0;32m-> 2098\u001b[0;31m             renderer.draw_quad_mesh(\n\u001b[0m\u001b[1;32m   2099\u001b[0m                 \u001b[0mgc\u001b[0m\u001b[0;34m,\u001b[0m \u001b[0mtransform\u001b[0m\u001b[0;34m.\u001b[0m\u001b[0mfrozen\u001b[0m\u001b[0;34m(\u001b[0m\u001b[0;34m)\u001b[0m\u001b[0;34m,\u001b[0m\u001b[0;34m\u001b[0m\u001b[0;34m\u001b[0m\u001b[0m\n\u001b[1;32m   2100\u001b[0m                 \u001b[0mcoordinates\u001b[0m\u001b[0;34m.\u001b[0m\u001b[0mshape\u001b[0m\u001b[0;34m[\u001b[0m\u001b[0;36m1\u001b[0m\u001b[0;34m]\u001b[0m \u001b[0;34m-\u001b[0m \u001b[0;36m1\u001b[0m\u001b[0;34m,\u001b[0m \u001b[0mcoordinates\u001b[0m\u001b[0;34m.\u001b[0m\u001b[0mshape\u001b[0m\u001b[0;34m[\u001b[0m\u001b[0;36m0\u001b[0m\u001b[0;34m]\u001b[0m \u001b[0;34m-\u001b[0m \u001b[0;36m1\u001b[0m\u001b[0;34m,\u001b[0m\u001b[0;34m\u001b[0m\u001b[0;34m\u001b[0m\u001b[0m\n",
            "\u001b[0;31mKeyboardInterrupt\u001b[0m: "
          ]
        }
      ]
    },
    {
      "cell_type": "code",
      "source": [
        "import gc\n",
        "import soundfile as sf\n",
        "import librosa\n",
        "import librosa.display\n",
        "import matplotlib.pyplot as plt\n",
        "import numpy as np\n",
        "import os\n",
        "\n",
        "def generate_spectrogram(file_path, output_path):\n",
        "    chunk_size =4096   # Adjust the chunk size as needed\n",
        "\n",
        "    y, sr = sf.read(file_path, dtype='float32', always_2d=True)  # Read the audio file using soundfile\n",
        "\n",
        "    num_chunks = len(y) // chunk_size + 1  # Calculate the number of chunks\n",
        "\n",
        "\n",
        "    for i in range(num_chunks):\n",
        "        start_idx = i * chunk_size\n",
        "        end_idx = min((i + 1) * chunk_size, len(y))\n",
        "        y_chunk = y[start_idx:end_idx]  # Extract a chunk of audio data\n",
        "\n",
        "        D = np.abs(librosa.stft(y_chunk[:, 0]))  # Compute the spectrogram for the chunk (assuming mono audio)\n",
        "\n",
        "        fig, ax = plt.subplots(figsize=(4, 4))\n",
        "        librosa.display.specshow(librosa.amplitude_to_db(D, ref=np.max), cmap='gray', ax=ax)\n",
        "        ax.axis('off')\n",
        "        fig.subplots_adjust(left=0, right=1, top=1, bottom=0)\n",
        "        fig.tight_layout(pad=0)\n",
        "        plt.close(fig)\n",
        "\n",
        "        chunk_output_path = output_path.replace('.wav', f'_chunk_{i}_spectrogram.png')\n",
        "        fig.savefig(chunk_output_path, bbox_inches='tight', pad_inches=0, transparent=True)\n",
        "        plt.close(fig)\n",
        "        gc.collect()\n",
        "\n",
        "def process_audio_files(folder_path):\n",
        "    for root, dirs, files in os.walk(folder_path):\n",
        "        for file in files:\n",
        "            if file.endswith('.wav'):\n",
        "                file_path = os.path.join(root, file)\n",
        "                output_image_path = os.path.splitext(file_path)[0] + '_spectrogram.png'\n",
        "                print(\"Processing:\", file_path)\n",
        "                generate_spectrogram(file_path, output_image_path)\n",
        "\n",
        "folder_path = '/content/drive/MyDrive/daic_dataset_folder'\n",
        "process_audio_files(folder_path)"
      ],
      "metadata": {
        "colab": {
          "base_uri": "https://localhost:8080/",
          "height": 373
        },
        "id": "HY7Dt56NFbFB",
        "outputId": "df169207-60e3-449e-f6c8-c5b75828fba5"
      },
      "execution_count": null,
      "outputs": [
        {
          "output_type": "stream",
          "name": "stdout",
          "text": [
            "Processing: /content/drive/MyDrive/daic_dataset_folder/436_P/436_AUDIO.wav\n"
          ]
        },
        {
          "output_type": "error",
          "ename": "KeyboardInterrupt",
          "evalue": "ignored",
          "traceback": [
            "\u001b[0;31m---------------------------------------------------------------------------\u001b[0m",
            "\u001b[0;31mKeyboardInterrupt\u001b[0m                         Traceback (most recent call last)",
            "\u001b[0;32m<ipython-input-3-ea4e4c5b40ba>\u001b[0m in \u001b[0;36m<cell line: 46>\u001b[0;34m()\u001b[0m\n\u001b[1;32m     44\u001b[0m \u001b[0;34m\u001b[0m\u001b[0m\n\u001b[1;32m     45\u001b[0m \u001b[0mfolder_path\u001b[0m \u001b[0;34m=\u001b[0m \u001b[0;34m'/content/drive/MyDrive/daic_dataset_folder'\u001b[0m\u001b[0;34m\u001b[0m\u001b[0;34m\u001b[0m\u001b[0m\n\u001b[0;32m---> 46\u001b[0;31m \u001b[0mprocess_audio_files\u001b[0m\u001b[0;34m(\u001b[0m\u001b[0mfolder_path\u001b[0m\u001b[0;34m)\u001b[0m\u001b[0;34m\u001b[0m\u001b[0;34m\u001b[0m\u001b[0m\n\u001b[0m",
            "\u001b[0;32m<ipython-input-3-ea4e4c5b40ba>\u001b[0m in \u001b[0;36mprocess_audio_files\u001b[0;34m(folder_path)\u001b[0m\n\u001b[1;32m     41\u001b[0m                 \u001b[0moutput_image_path\u001b[0m \u001b[0;34m=\u001b[0m \u001b[0mos\u001b[0m\u001b[0;34m.\u001b[0m\u001b[0mpath\u001b[0m\u001b[0;34m.\u001b[0m\u001b[0msplitext\u001b[0m\u001b[0;34m(\u001b[0m\u001b[0mfile_path\u001b[0m\u001b[0;34m)\u001b[0m\u001b[0;34m[\u001b[0m\u001b[0;36m0\u001b[0m\u001b[0;34m]\u001b[0m \u001b[0;34m+\u001b[0m \u001b[0;34m'_spectrogram.png'\u001b[0m\u001b[0;34m\u001b[0m\u001b[0;34m\u001b[0m\u001b[0m\n\u001b[1;32m     42\u001b[0m                 \u001b[0mprint\u001b[0m\u001b[0;34m(\u001b[0m\u001b[0;34m\"Processing:\"\u001b[0m\u001b[0;34m,\u001b[0m \u001b[0mfile_path\u001b[0m\u001b[0;34m)\u001b[0m\u001b[0;34m\u001b[0m\u001b[0;34m\u001b[0m\u001b[0m\n\u001b[0;32m---> 43\u001b[0;31m                 \u001b[0mgenerate_spectrogram\u001b[0m\u001b[0;34m(\u001b[0m\u001b[0mfile_path\u001b[0m\u001b[0;34m,\u001b[0m \u001b[0moutput_image_path\u001b[0m\u001b[0;34m)\u001b[0m\u001b[0;34m\u001b[0m\u001b[0;34m\u001b[0m\u001b[0m\n\u001b[0m\u001b[1;32m     44\u001b[0m \u001b[0;34m\u001b[0m\u001b[0m\n\u001b[1;32m     45\u001b[0m \u001b[0mfolder_path\u001b[0m \u001b[0;34m=\u001b[0m \u001b[0;34m'/content/drive/MyDrive/daic_dataset_folder'\u001b[0m\u001b[0;34m\u001b[0m\u001b[0;34m\u001b[0m\u001b[0m\n",
            "\u001b[0;32m<ipython-input-3-ea4e4c5b40ba>\u001b[0m in \u001b[0;36mgenerate_spectrogram\u001b[0;34m(file_path, output_path)\u001b[0m\n\u001b[1;32m     32\u001b[0m         \u001b[0mfig\u001b[0m\u001b[0;34m.\u001b[0m\u001b[0msavefig\u001b[0m\u001b[0;34m(\u001b[0m\u001b[0mchunk_output_path\u001b[0m\u001b[0;34m,\u001b[0m \u001b[0mbbox_inches\u001b[0m\u001b[0;34m=\u001b[0m\u001b[0;34m'tight'\u001b[0m\u001b[0;34m,\u001b[0m \u001b[0mpad_inches\u001b[0m\u001b[0;34m=\u001b[0m\u001b[0;36m0\u001b[0m\u001b[0;34m,\u001b[0m \u001b[0mtransparent\u001b[0m\u001b[0;34m=\u001b[0m\u001b[0;32mTrue\u001b[0m\u001b[0;34m)\u001b[0m\u001b[0;34m\u001b[0m\u001b[0;34m\u001b[0m\u001b[0m\n\u001b[1;32m     33\u001b[0m         \u001b[0mplt\u001b[0m\u001b[0;34m.\u001b[0m\u001b[0mclose\u001b[0m\u001b[0;34m(\u001b[0m\u001b[0mfig\u001b[0m\u001b[0;34m)\u001b[0m\u001b[0;34m\u001b[0m\u001b[0;34m\u001b[0m\u001b[0m\n\u001b[0;32m---> 34\u001b[0;31m         \u001b[0mgc\u001b[0m\u001b[0;34m.\u001b[0m\u001b[0mcollect\u001b[0m\u001b[0;34m(\u001b[0m\u001b[0;34m)\u001b[0m\u001b[0;34m\u001b[0m\u001b[0;34m\u001b[0m\u001b[0m\n\u001b[0m\u001b[1;32m     35\u001b[0m \u001b[0;34m\u001b[0m\u001b[0m\n\u001b[1;32m     36\u001b[0m \u001b[0;32mdef\u001b[0m \u001b[0mprocess_audio_files\u001b[0m\u001b[0;34m(\u001b[0m\u001b[0mfolder_path\u001b[0m\u001b[0;34m)\u001b[0m\u001b[0;34m:\u001b[0m\u001b[0;34m\u001b[0m\u001b[0;34m\u001b[0m\u001b[0m\n",
            "\u001b[0;31mKeyboardInterrupt\u001b[0m: "
          ]
        }
      ]
    },
    {
      "cell_type": "code",
      "source": [
        "#ntry\n",
        "import gc\n",
        "import soundfile as sf\n",
        "import librosa\n",
        "import librosa.display\n",
        "import matplotlib.pyplot as plt\n",
        "import numpy as np\n",
        "import os\n",
        "\n",
        "def generate_spectrogram(file_path, output_path):\n",
        "    y, sr = sf.read(file_path, dtype='float32')  # Read the audio file using soundfile\n",
        "\n",
        "    D = np.abs(librosa.stft(y))  # Compute the spectrogram for the entire audio file\n",
        "\n",
        "    fig, ax = plt.subplots(figsize=(4, 4))\n",
        "    librosa.display.specshow(librosa.amplitude_to_db(D, ref=np.max), cmap='gray', ax=ax)\n",
        "    ax.axis('off')\n",
        "    fig.subplots_adjust(left=0, right=1, top=1, bottom=0)\n",
        "    fig.tight_layout(pad=0)\n",
        "    plt.close(fig)\n",
        "\n",
        "\n",
        "    fig.savefig(output_path, bbox_inches='tight', pad_inches=0, transparent=True)\n",
        "\n",
        "    plt.close(fig)\n",
        "    gc.collect()\n",
        "\n",
        "def process_audio_files(folder_path):\n",
        "\n",
        "    for root, dirs, files in os.walk(folder_path):\n",
        "        for file in files:\n",
        "            if file.endswith('491_AUDIO.wav'):\n",
        "                file_path = os.path.join(root, file)\n",
        "                output_image_path = os.path.splitext(file_path)[0] + '_spectrogram.png'\n",
        "                print(\"Processing:\", file_path)\n",
        "                generate_spectrogram(file_path, output_image_path)\n",
        "\n",
        "\n",
        "\n",
        "\n",
        "folder_path = '/content/drive/MyDrive/daic_dataset_folder'\n",
        "\n",
        "\n",
        "process_audio_files(folder_path)\n"
      ],
      "metadata": {
        "id": "4ibBAKG3EgU6",
        "colab": {
          "base_uri": "https://localhost:8080/"
        },
        "outputId": "2f62ae52-9545-422c-93eb-c77656253239"
      },
      "execution_count": null,
      "outputs": [
        {
          "output_type": "stream",
          "name": "stdout",
          "text": [
            "Processing: /content/drive/MyDrive/daic_dataset_folder/491_P/491_AUDIO.wav\n"
          ]
        }
      ]
    },
    {
      "cell_type": "code",
      "source": [
        "#ntry\n",
        "import gc\n",
        "import soundfile as sf\n",
        "import librosa\n",
        "import librosa.display\n",
        "import matplotlib.pyplot as plt\n",
        "import numpy as np\n",
        "import os\n",
        "\n",
        "def generate_spectrogram(file_path, output_path):\n",
        "    y, sr = sf.read(file_path, dtype='float32')  # Read the audio file using soundfile\n",
        "\n",
        "    D = np.abs(librosa.stft(y))  # Compute the spectrogram for the entire audio file\n",
        "\n",
        "    fig, ax = plt.subplots(figsize=(4, 4))\n",
        "    librosa.display.specshow(librosa.amplitude_to_db(D, ref=np.max), cmap='gray', ax=ax)\n",
        "    ax.axis('off')\n",
        "    fig.subplots_adjust(left=0, right=1, top=1, bottom=0)\n",
        "    fig.tight_layout(pad=0)\n",
        "    plt.close(fig)\n",
        "\n",
        "\n",
        "    fig.savefig(output_path, bbox_inches='tight', pad_inches=0, transparent=True)\n",
        "\n",
        "    plt.close(fig)\n",
        "    gc.collect()\n",
        "\n",
        "def process_audio_files(folder_path):\n",
        "\n",
        "    for root, dirs, files in os.walk(folder_path):\n",
        "        for file in files:\n",
        "            if file.endswith('492_AUDIO.wav'):\n",
        "                file_path = os.path.join(root, file)\n",
        "                output_image_path = os.path.splitext(file_path)[0] + '_spectrogram.png'\n",
        "                print(\"Processing:\", file_path)\n",
        "                generate_spectrogram(file_path, output_image_path)\n",
        "\n",
        "\n",
        "\n",
        "\n",
        "folder_path = '/content/drive/MyDrive/daic_dataset_folder'\n",
        "\n",
        "\n",
        "process_audio_files(folder_path)\n"
      ],
      "metadata": {
        "id": "_TbRwASAO5rd",
        "colab": {
          "base_uri": "https://localhost:8080/"
        },
        "outputId": "a29b2e93-3e69-4e76-d695-9e31c5f45d21"
      },
      "execution_count": null,
      "outputs": [
        {
          "output_type": "stream",
          "name": "stdout",
          "text": [
            "Processing: /content/drive/MyDrive/daic_dataset_folder/492_P/492_AUDIO.wav\n"
          ]
        }
      ]
    },
    {
      "cell_type": "code",
      "source": [
        "#ntry\n",
        "import gc\n",
        "import soundfile as sf\n",
        "import librosa\n",
        "import librosa.display\n",
        "import matplotlib.pyplot as plt\n",
        "import numpy as np\n",
        "import os\n",
        "\n",
        "def generate_spectrogram(file_path, output_path):\n",
        "    y, sr = sf.read(file_path, dtype='float32')  # Read the audio file using soundfile\n",
        "\n",
        "    D = np.abs(librosa.stft(y))  # Compute the spectrogram for the entire audio file\n",
        "\n",
        "    fig, ax = plt.subplots(figsize=(4, 4))\n",
        "    librosa.display.specshow(librosa.amplitude_to_db(D, ref=np.max), cmap='gray', ax=ax)\n",
        "    ax.axis('off')\n",
        "    fig.subplots_adjust(left=0, right=1, top=1, bottom=0)\n",
        "    fig.tight_layout(pad=0)\n",
        "    plt.close(fig)\n",
        "\n",
        "\n",
        "    fig.savefig(output_path, bbox_inches='tight', pad_inches=0, transparent=True)\n",
        "\n",
        "    plt.close(fig)\n",
        "    gc.collect()\n",
        "\n",
        "def process_audio_files(folder_path):\n",
        "\n",
        "    for root, dirs, files in os.walk(folder_path):\n",
        "        for file in files:\n",
        "            if file.endswith('483_AUDIO.wav'):\n",
        "                file_path = os.path.join(root, file)\n",
        "                output_image_path = os.path.splitext(file_path)[0] + '_spectrogram.png'\n",
        "                print(\"Processing:\", file_path)\n",
        "                generate_spectrogram(file_path, output_image_path)\n",
        "\n",
        "\n",
        "\n",
        "\n",
        "folder_path = '/content/drive/MyDrive/daic_dataset_folder'\n",
        "\n",
        "\n",
        "process_audio_files(folder_path)\n"
      ],
      "metadata": {
        "id": "LRC7JnA7PDpW",
        "colab": {
          "base_uri": "https://localhost:8080/"
        },
        "outputId": "3791c824-907c-471d-e4ed-f5c907fe2d69"
      },
      "execution_count": null,
      "outputs": [
        {
          "output_type": "stream",
          "name": "stdout",
          "text": [
            "Processing: /content/drive/MyDrive/daic_dataset_folder/483_P/483_AUDIO.wav\n"
          ]
        }
      ]
    },
    {
      "cell_type": "code",
      "source": [
        "#ntry\n",
        "import gc\n",
        "import soundfile as sf\n",
        "import librosa\n",
        "import librosa.display\n",
        "import matplotlib.pyplot as plt\n",
        "import numpy as np\n",
        "import os\n",
        "\n",
        "def generate_spectrogram(file_path, output_path):\n",
        "    y, sr = sf.read(file_path, dtype='float32')  # Read the audio file using soundfile\n",
        "\n",
        "    D = np.abs(librosa.stft(y))  # Compute the spectrogram for the entire audio file\n",
        "\n",
        "    fig, ax = plt.subplots(figsize=(4, 4))\n",
        "    librosa.display.specshow(librosa.amplitude_to_db(D, ref=np.max), cmap='gray', ax=ax)\n",
        "    ax.axis('off')\n",
        "    fig.subplots_adjust(left=0, right=1, top=1, bottom=0)\n",
        "    fig.tight_layout(pad=0)\n",
        "    plt.close(fig)\n",
        "\n",
        "\n",
        "    fig.savefig(output_path, bbox_inches='tight', pad_inches=0, transparent=True)\n",
        "\n",
        "    plt.close(fig)\n",
        "    gc.collect()\n",
        "\n",
        "def process_audio_files(folder_path):\n",
        "\n",
        "    for root, dirs, files in os.walk(folder_path):\n",
        "        for file in files:\n",
        "            if file.endswith('484_AUDIO.wav'):\n",
        "                file_path = os.path.join(root, file)\n",
        "                output_image_path = os.path.splitext(file_path)[0] + '_spectrogram.png'\n",
        "                print(\"Processing:\", file_path)\n",
        "                generate_spectrogram(file_path, output_image_path)\n",
        "\n",
        "\n",
        "\n",
        "\n",
        "folder_path = '/content/drive/MyDrive/daic_dataset_folder'\n",
        "\n",
        "\n",
        "process_audio_files(folder_path)\n"
      ],
      "metadata": {
        "id": "PYRMdgj1PGgB",
        "colab": {
          "base_uri": "https://localhost:8080/"
        },
        "outputId": "8bbc8c7b-0954-4792-fa6a-9842bc76371b"
      },
      "execution_count": null,
      "outputs": [
        {
          "output_type": "stream",
          "name": "stdout",
          "text": [
            "Processing: /content/drive/MyDrive/daic_dataset_folder/484_P/484_AUDIO.wav\n"
          ]
        }
      ]
    },
    {
      "cell_type": "code",
      "source": [
        "#ntry\n",
        "import gc\n",
        "import soundfile as sf\n",
        "import librosa\n",
        "import librosa.display\n",
        "import matplotlib.pyplot as plt\n",
        "import numpy as np\n",
        "import os\n",
        "\n",
        "\n",
        "\n",
        "\n",
        "def generate_spectrogram(file_path, output_path):\n",
        "    y, sr = sf.read(file_path, dtype='float32')  # Read the audio file using soundfile\n",
        "\n",
        "    D = np.abs(librosa.stft(y))  # Compute the spectrogram for the entire audio file\n",
        "\n",
        "    fig, ax = plt.subplots(figsize=(4, 4))\n",
        "    librosa.display.specshow(librosa.amplitude_to_db(D, ref=np.max), cmap='gray', ax=ax)\n",
        "    ax.axis('off')\n",
        "    fig.subplots_adjust(left=0, right=1, top=1, bottom=0)\n",
        "    fig.tight_layout(pad=0)\n",
        "    plt.close(fig)\n",
        "\n",
        "\n",
        "    fig.savefig(output_path, bbox_inches='tight', pad_inches=0, transparent=True)\n",
        "\n",
        "    plt.close(fig)\n",
        "    gc.collect()\n",
        "\n",
        "def process_audio_files(folder_path):\n",
        "\n",
        "    for root, dirs, files in os.walk(folder_path):\n",
        "        for file in files:\n",
        "            if file.endswith('485_AUDIO.wav'):\n",
        "                file_path = os.path.join(root, file)\n",
        "                output_image_path = os.path.splitext(file_path)[0] + '_spectrogram.png'\n",
        "                print(\"Processing:\", file_path)\n",
        "                generate_spectrogram(file_path, output_image_path)\n",
        "\n",
        "\n",
        "\n",
        "\n",
        "folder_path = '/content/drive/MyDrive/daic_dataset_folder'\n",
        "\n",
        "\n",
        "process_audio_files(folder_path)\n"
      ],
      "metadata": {
        "id": "FRL-Uj30PI28",
        "colab": {
          "base_uri": "https://localhost:8080/"
        },
        "outputId": "ddd5a5b7-34d2-4453-d63d-c370fe0ae993"
      },
      "execution_count": null,
      "outputs": [
        {
          "output_type": "stream",
          "name": "stdout",
          "text": [
            "Processing: /content/drive/MyDrive/daic_dataset_folder/485_P/485_AUDIO.wav\n"
          ]
        }
      ]
    },
    {
      "cell_type": "code",
      "source": [
        "#ntry\n",
        "import gc\n",
        "import soundfile as sf\n",
        "import librosa\n",
        "import librosa.display\n",
        "import matplotlib.pyplot as plt\n",
        "import numpy as np\n",
        "import os\n",
        "\n",
        "def generate_spectrogram(file_path, output_path):\n",
        "    y, sr = sf.read(file_path, dtype='float32')  # Read the audio file using soundfile\n",
        "\n",
        "    D = np.abs(librosa.stft(y))  # Compute the spectrogram for the entire audio file\n",
        "\n",
        "    fig, ax = plt.subplots(figsize=(4, 4))\n",
        "    librosa.display.specshow(librosa.amplitude_to_db(D, ref=np.max), cmap='gray', ax=ax)\n",
        "    ax.axis('off')\n",
        "    fig.subplots_adjust(left=0, right=1, top=1, bottom=0)\n",
        "    fig.tight_layout(pad=0)\n",
        "    plt.close(fig)\n",
        "\n",
        "\n",
        "    fig.savefig(output_path, bbox_inches='tight', pad_inches=0, transparent=True)\n",
        "\n",
        "    plt.close(fig)\n",
        "    gc.collect()\n",
        "\n",
        "def process_audio_files(folder_path):\n",
        "\n",
        "    for root, dirs, files in os.walk(folder_path):\n",
        "        for file in files:\n",
        "            if file.endswith('486_AUDIO.wav'):\n",
        "                file_path = os.path.join(root, file)\n",
        "                output_image_path = os.path.splitext(file_path)[0] + '_spectrogram.png'\n",
        "                print(\"Processing:\", file_path)\n",
        "                generate_spectrogram(file_path, output_image_path)\n",
        "\n",
        "\n",
        "\n",
        "\n",
        "folder_path = '/content/drive/MyDrive/daic_dataset_folder'\n",
        "\n",
        "\n",
        "process_audio_files(folder_path)\n"
      ],
      "metadata": {
        "id": "IdKOH8kxPKlZ",
        "colab": {
          "base_uri": "https://localhost:8080/"
        },
        "outputId": "0f747cf9-52ab-4588-9b86-9e868fca5329"
      },
      "execution_count": null,
      "outputs": [
        {
          "output_type": "stream",
          "name": "stdout",
          "text": [
            "Processing: /content/drive/MyDrive/daic_dataset_folder/486_P/486_AUDIO.wav\n"
          ]
        }
      ]
    },
    {
      "cell_type": "code",
      "source": [
        "#ntry\n",
        "import gc\n",
        "import soundfile as sf\n",
        "import librosa\n",
        "import librosa.display\n",
        "import matplotlib.pyplot as plt\n",
        "import numpy as np\n",
        "import os\n",
        "\n",
        "def generate_spectrogram(file_path, output_path):\n",
        "    y, sr = sf.read(file_path, dtype='float32')  # Read the audio file using soundfile\n",
        "\n",
        "    D = np.abs(librosa.stft(y))  # Compute the spectrogram for the entire audio file\n",
        "\n",
        "    fig, ax = plt.subplots(figsize=(4, 4))\n",
        "    librosa.display.specshow(librosa.amplitude_to_db(D, ref=np.max), cmap='gray', ax=ax)\n",
        "    ax.axis('off')\n",
        "    fig.subplots_adjust(left=0, right=1, top=1, bottom=0)\n",
        "    fig.tight_layout(pad=0)\n",
        "    plt.close(fig)\n",
        "\n",
        "\n",
        "    fig.savefig(output_path, bbox_inches='tight', pad_inches=0, transparent=True)\n",
        "\n",
        "    plt.close(fig)\n",
        "    gc.collect()\n",
        "\n",
        "def process_audio_files(folder_path):\n",
        "\n",
        "    for root, dirs, files in os.walk(folder_path):\n",
        "        for file in files:\n",
        "            if file.endswith('487_AUDIO.wav'):\n",
        "                file_path = os.path.join(root, file)\n",
        "                output_image_path = os.path.splitext(file_path)[0] + '_spectrogram.png'\n",
        "                print(\"Processing:\", file_path)\n",
        "                generate_spectrogram(file_path, output_image_path)\n",
        "\n",
        "\n",
        "\n",
        "\n",
        "folder_path = '/content/drive/MyDrive/daic_dataset_folder'\n",
        "\n",
        "\n",
        "process_audio_files(folder_path)\n"
      ],
      "metadata": {
        "id": "ZI3nK_vWPMPv",
        "colab": {
          "base_uri": "https://localhost:8080/"
        },
        "outputId": "f23a5bbe-bbd7-411b-d7c6-74b45dade423"
      },
      "execution_count": null,
      "outputs": [
        {
          "output_type": "stream",
          "name": "stdout",
          "text": [
            "Processing: /content/drive/MyDrive/daic_dataset_folder/487_P/487_AUDIO.wav\n"
          ]
        }
      ]
    },
    {
      "cell_type": "code",
      "source": [
        "#ntry\n",
        "import gc\n",
        "import soundfile as sf\n",
        "import librosa\n",
        "import librosa.display\n",
        "import matplotlib.pyplot as plt\n",
        "import numpy as np\n",
        "import os\n",
        "\n",
        "def generate_spectrogram(file_path, output_path):\n",
        "    y, sr = sf.read(file_path, dtype='float32')  # Read the audio file using soundfile\n",
        "\n",
        "    D = np.abs(librosa.stft(y))  # Compute the spectrogram for the entire audio file\n",
        "\n",
        "    fig, ax = plt.subplots(figsize=(4, 4))\n",
        "    librosa.display.specshow(librosa.amplitude_to_db(D, ref=np.max), cmap='gray', ax=ax)\n",
        "    ax.axis('off')\n",
        "    fig.subplots_adjust(left=0, right=1, top=1, bottom=0)\n",
        "    fig.tight_layout(pad=0)\n",
        "    plt.close(fig)\n",
        "\n",
        "\n",
        "    fig.savefig(output_path, bbox_inches='tight', pad_inches=0, transparent=True)\n",
        "\n",
        "    plt.close(fig)\n",
        "    gc.collect()\n",
        "\n",
        "def process_audio_files(folder_path):\n",
        "\n",
        "    for root, dirs, files in os.walk(folder_path):\n",
        "        for file in files:\n",
        "            if file.endswith('488_AUDIO.wav'):\n",
        "                file_path = os.path.join(root, file)\n",
        "                output_image_path = os.path.splitext(file_path)[0] + '_spectrogram.png'\n",
        "                print(\"Processing:\", file_path)\n",
        "                generate_spectrogram(file_path, output_image_path)\n",
        "\n",
        "\n",
        "\n",
        "\n",
        "folder_path = '/content/drive/MyDrive/daic_dataset_folder'\n",
        "\n",
        "\n",
        "process_audio_files(folder_path)\n"
      ],
      "metadata": {
        "id": "7whL3_o_PN79",
        "colab": {
          "base_uri": "https://localhost:8080/"
        },
        "outputId": "9edc9a4e-809c-4757-91f8-e8d9082f5c60"
      },
      "execution_count": null,
      "outputs": [
        {
          "output_type": "stream",
          "name": "stdout",
          "text": [
            "Processing: /content/drive/MyDrive/daic_dataset_folder/488_P/488_AUDIO.wav\n"
          ]
        }
      ]
    },
    {
      "cell_type": "code",
      "source": [
        "#ntry\n",
        "import gc\n",
        "import soundfile as sf\n",
        "import librosa\n",
        "import librosa.display\n",
        "import matplotlib.pyplot as plt\n",
        "import numpy as np\n",
        "import os\n",
        "\n",
        "def generate_spectrogram(file_path, output_path):\n",
        "    y, sr = sf.read(file_path, dtype='float32')  # Read the audio file using soundfile\n",
        "\n",
        "    D = np.abs(librosa.stft(y))  # Compute the spectrogram for the entire audio file\n",
        "\n",
        "    fig, ax = plt.subplots(figsize=(4, 4))\n",
        "    librosa.display.specshow(librosa.amplitude_to_db(D, ref=np.max), cmap='gray', ax=ax)\n",
        "    ax.axis('off')\n",
        "    fig.subplots_adjust(left=0, right=1, top=1, bottom=0)\n",
        "    fig.tight_layout(pad=0)\n",
        "    plt.close(fig)\n",
        "\n",
        "\n",
        "    fig.savefig(output_path, bbox_inches='tight', pad_inches=0, transparent=True)\n",
        "\n",
        "    plt.close(fig)\n",
        "    gc.collect()\n",
        "\n",
        "def process_audio_files(folder_path):\n",
        "\n",
        "    for root, dirs, files in os.walk(folder_path):\n",
        "        for file in files:\n",
        "            if file.endswith('489_AUDIO.wav'):\n",
        "                file_path = os.path.join(root, file)\n",
        "                output_image_path = os.path.splitext(file_path)[0] + '_spectrogram.png'\n",
        "                print(\"Processing:\", file_path)\n",
        "                generate_spectrogram(file_path, output_image_path)\n",
        "\n",
        "\n",
        "\n",
        "\n",
        "folder_path = '/content/drive/MyDrive/daic_dataset_folder'\n",
        "\n",
        "\n",
        "process_audio_files(folder_path)\n"
      ],
      "metadata": {
        "id": "x7JPboeGPP2s",
        "colab": {
          "base_uri": "https://localhost:8080/"
        },
        "outputId": "677ea50c-f58d-4833-8d2a-9304b4fdf376"
      },
      "execution_count": null,
      "outputs": [
        {
          "output_type": "stream",
          "name": "stdout",
          "text": [
            "Processing: /content/drive/MyDrive/daic_dataset_folder/489_P/489_AUDIO.wav\n"
          ]
        }
      ]
    },
    {
      "cell_type": "code",
      "source": [
        "#ntry\n",
        "import gc\n",
        "import soundfile as sf\n",
        "import librosa\n",
        "import librosa.display\n",
        "import matplotlib.pyplot as plt\n",
        "import numpy as np\n",
        "import os\n",
        "\n",
        "def generate_spectrogram(file_path, output_path):\n",
        "    y, sr = sf.read(file_path, dtype='float32')  # Read the audio file using soundfile\n",
        "\n",
        "    D = np.abs(librosa.stft(y))  # Compute the spectrogram for the entire audio file\n",
        "\n",
        "    fig, ax = plt.subplots(figsize=(4, 4))\n",
        "    librosa.display.specshow(librosa.amplitude_to_db(D, ref=np.max), cmap='gray', ax=ax)\n",
        "    ax.axis('off')\n",
        "    fig.subplots_adjust(left=0, right=1, top=1, bottom=0)\n",
        "    fig.tight_layout(pad=0)\n",
        "    plt.close(fig)\n",
        "\n",
        "\n",
        "    fig.savefig(output_path, bbox_inches='tight', pad_inches=0, transparent=True)\n",
        "\n",
        "    plt.close(fig)\n",
        "    gc.collect()\n",
        "\n",
        "def process_audio_files(folder_path):\n",
        "\n",
        "    for root, dirs, files in os.walk(folder_path):\n",
        "        for file in files:\n",
        "            if file.endswith('490_AUDIO.wav'):\n",
        "                file_path = os.path.join(root, file)\n",
        "                output_image_path = os.path.splitext(file_path)[0] + '_spectrogram.png'\n",
        "                print(\"Processing:\", file_path)\n",
        "                generate_spectrogram(file_path, output_image_path)\n",
        "\n",
        "\n",
        "\n",
        "\n",
        "folder_path = '/content/drive/MyDrive/daic_dataset_folder'\n",
        "\n",
        "\n",
        "process_audio_files(folder_path)\n"
      ],
      "metadata": {
        "id": "CtkXWqZ8PR-8",
        "colab": {
          "base_uri": "https://localhost:8080/"
        },
        "outputId": "ac95de4a-7429-43a7-910f-27b6adcc89bd"
      },
      "execution_count": null,
      "outputs": [
        {
          "output_type": "stream",
          "name": "stdout",
          "text": [
            "Processing: /content/drive/MyDrive/daic_dataset_folder/490_P/490_AUDIO.wav\n"
          ]
        }
      ]
    }
  ]
}