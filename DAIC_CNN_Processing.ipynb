{
  "nbformat": 4,
  "nbformat_minor": 0,
  "metadata": {
    "colab": {
      "provenance": [],
      "include_colab_link": true
    },
    "kernelspec": {
      "name": "python3",
      "display_name": "Python 3"
    },
    "language_info": {
      "name": "python"
    }
  },
  "cells": [
    {
      "cell_type": "markdown",
      "metadata": {
        "id": "view-in-github",
        "colab_type": "text"
      },
      "source": [
        "<a href=\"https://colab.research.google.com/github/Rishabh5752/MHD-DAIC-/blob/main/DAIC_CNN_Processing.ipynb\" target=\"_parent\"><img src=\"https://colab.research.google.com/assets/colab-badge.svg\" alt=\"Open In Colab\"/></a>"
      ]
    },
    {
      "cell_type": "code",
      "execution_count": null,
      "metadata": {
        "colab": {
          "base_uri": "https://localhost:8080/"
        },
        "id": "nKM3wHpgo1R7",
        "outputId": "4f3579eb-fefc-412a-fe2c-da11a585a9bb"
      },
      "outputs": [
        {
          "output_type": "stream",
          "name": "stdout",
          "text": [
            "Drive already mounted at /content/drive; to attempt to forcibly remount, call drive.mount(\"/content/drive\", force_remount=True).\n"
          ]
        }
      ],
      "source": [
        "from google.colab import drive\n",
        "drive.mount('/content/drive')"
      ]
    },
    {
      "cell_type": "code",
      "source": [
        "import gc\n",
        "import os\n",
        "import soundfile as sf\n",
        "import librosa\n",
        "import librosa.display\n",
        "import matplotlib.pyplot as plt\n",
        "import numpy as np\n",
        "import pandas as pd\n",
        "from sklearn.model_selection import train_test_split\n",
        "from tensorflow.keras.models import Sequential\n",
        "from tensorflow.keras.layers import Conv2D, MaxPooling2D, Flatten, Dense"
      ],
      "metadata": {
        "id": "h2mvOkIypF4P"
      },
      "execution_count": null,
      "outputs": []
    },
    {
      "cell_type": "code",
      "source": [
        "import os\n",
        "import numpy as np\n",
        "import pandas as pd\n",
        "from PIL import Image\n",
        "data_directory = '/content/drive/MyDrive/daic_dataset_folder'\n",
        "\n",
        "def load_flatten_images(directory):\n",
        "    image_matrix_list = []\n",
        "    for dir_name in os.listdir(directory):\n",
        "        dir_path = os.path.join(directory, dir_name)\n",
        "        if os.path.isdir(dir_path):\n",
        "            for file_name in os.listdir(dir_path):\n",
        "                if file_name.endswith('.png'):\n",
        "                    image_path = os.path.join(dir_path, file_name)\n",
        "                    img = Image.open(image_path)\n",
        "                    flattened_img = np.array(img).flatten()\n",
        "                    image_matrix_list.append(flattened_img)\n",
        "    return image_matrix_list\n",
        "\n",
        "image_matrices = load_flatten_images(data_directory)\n",
        "\n",
        "image_matrix = np.vstack(image_matrices)\n",
        "\n",
        "csv_file_path = '/content/drive/My Drive/spectrogram_matrix.csv'\n",
        "pd.DataFrame(image_matrix).to_csv(csv_file_path, index=False, header=False)\n"
      ],
      "metadata": {
        "id": "lF1sNaisII09"
      },
      "execution_count": null,
      "outputs": []
    },
    {
      "cell_type": "code",
      "source": [
        "import pandas as pd\n",
        "\n",
        "matrix_file_path = '/content/drive/My Drive/spectrogram_matrix.csv'\n",
        "\n",
        "other_file_path = '/content/drive/MyDrive/PHQ8_Labels.csv'\n",
        "\n",
        "matrix_data = pd.read_csv(matrix_file_path, header=None)  # Assuming no header in the file\n",
        "\n",
        "other_data = pd.read_csv(other_file_path)  # Assuming the first row contains column labels\n",
        "\n",
        "merged_data = pd.concat([other_data, matrix_data], axis=1)\n",
        "\n",
        "print(merged_data.head())\n",
        "\n",
        "merged_file_path = '/content/drive/My Drive/merged_data.csv'\n",
        "merged_data.to_csv(merged_file_path, index=False)\n"
      ],
      "metadata": {
        "id": "v06MjhQRPehk",
        "colab": {
          "base_uri": "https://localhost:8080/"
        },
        "outputId": "5278e383-11e3-48bc-f30c-c53229b60d77"
      },
      "execution_count": null,
      "outputs": [
        {
          "output_type": "stream",
          "name": "stdout",
          "text": [
            "   Participant_ID  PHQ_8NoInterest  PHQ_8Depressed  PHQ_8Sleep  PHQ_8Tired  \\\n",
            "0             436                0               0           0           0   \n",
            "1             437                0               0           0           0   \n",
            "2             438                0               0           0           1   \n",
            "3             439                0               0           0           1   \n",
            "4             440                2               2           2           3   \n",
            "\n",
            "   PHQ_8Appetite  PHQ_8Failure  PHQ_8Concentrating  PHQ_8Moving  PHQ_8Total  \\\n",
            "0              0             0                   0            0           0   \n",
            "1              0             0                   0            0           0   \n",
            "2              1             0                   0            0           2   \n",
            "3              0             0                   0            0           1   \n",
            "4              3             2                   3            2          19   \n",
            "\n",
            "   ...  639990  639991  639992  639993  639994  639995  639996  639997  \\\n",
            "0  ...     226     255     236     236     236     255     162     162   \n",
            "1  ...     173     255     184     184     184     255     237     237   \n",
            "2  ...     156     255     120     120     120     255     215     215   \n",
            "3  ...      75     255     187     187     187     255     156     156   \n",
            "4  ...     164     255     195     195     195     255     121     121   \n",
            "\n",
            "   639998  639999  \n",
            "0     162     255  \n",
            "1     237     255  \n",
            "2     215     255  \n",
            "3     156     255  \n",
            "4     121     255  \n",
            "\n",
            "[5 rows x 640010 columns]\n"
          ]
        }
      ]
    },
    {
      "cell_type": "code",
      "source": [
        "def load_phq_scores(csv_file):\n",
        "    phq_data = pd.read_csv(csv_file)\n",
        "    return dict(zip(phq_data['Participant_ID'], phq_data['PHQ8_Binary']))"
      ],
      "metadata": {
        "id": "aofGxNBb91n4"
      },
      "execution_count": null,
      "outputs": []
    }
  ]
}